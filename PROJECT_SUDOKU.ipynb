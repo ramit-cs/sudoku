{
 "cells": [
  {
   "cell_type": "markdown",
   "metadata": {},
   "source": [
    "## Sudoku Solver Using Backtracking"
   ]
  },
  {
   "cell_type": "code",
   "execution_count": 149,
   "metadata": {},
   "outputs": [],
   "source": [
    "class Sudoku:\n",
    "    def __init__(self, matrix):\n",
    "        self.board = matrix\n",
    "        self.rows = len(matrix)\n",
    "        self.cols = len(matrix[0])\n",
    "        \n",
    "    def printBoard(self):\n",
    "        for row in range(self.rows):\n",
    "            if row%3 == 0 and row != 0:\n",
    "                print(\"-------------------------\")\n",
    "            for col in range(self.cols):\n",
    "                if col%3 == 0:\n",
    "                    print(\"|\", end = \" \")\n",
    "                print(self.board[row][col], end = \" \")\n",
    "            if col == self.cols -1:\n",
    "                print(\"|\", end = \" \")\n",
    "            print(\"\")\n",
    "            \n",
    "    def findEmpty(self):\n",
    "        for row in range(self.rows):\n",
    "            for col in range(self.cols):\n",
    "                if self.board[row][col] == 0:\n",
    "                    return row, col\n",
    "        return None\n",
    "    \n",
    "    def isValidEntry(self, number, row, col):\n",
    "        rowValid = self.isRowValid(row,col, number)\n",
    "        colValid = self.isColValid(row, col, number)\n",
    "        squareValid = self.isSquareValid(row, col, number)\n",
    "        return rowValid and colValid and squareValid\n",
    "    \n",
    "    def isRowValid(self, currentRow, currentCol, value):\n",
    "        for col in range(self.cols):\n",
    "            if self.board[currentRow][col] == value and col != currentCol:\n",
    "#                 print(\"here\")\n",
    "                return False\n",
    "        return True\n",
    "    \n",
    "    def isColValid(self, currentRow, currentCol, value):\n",
    "        for row in range(self.rows):\n",
    "            if self.board[row][currentCol] == value and row != currentRow:\n",
    "                return False\n",
    "        return True\n",
    "        \n",
    "    def isSquareValid(self, currentRow, currentCol, value):\n",
    "#         print(currentRow, currentCol)\n",
    "        for row in range((currentRow//3)*3, (currentRow//3)*3+3):\n",
    "            for col in range((currentCol//3)*3, (currentCol//3)*3+3):\n",
    "                if self.board[row][col] == value and not (row== currentRow and col==currentCol):\n",
    "                    return False\n",
    "        return True\n",
    "        \n",
    "    def solve(self):\n",
    "        emptyRowCol = self.findEmpty()\n",
    "        if not emptyRowCol:\n",
    "            return True\n",
    "        row, col = emptyRowCol\n",
    "        for i in range(1,10):\n",
    "            self.board[row][col] = i\n",
    "            if self.isValidEntry(i,row, col):\n",
    "                self.board[row][col] = i\n",
    "                if self.solve():\n",
    "                    return True\n",
    "            self.board[row][col] = 0\n",
    "        return False"
   ]
  },
  {
   "cell_type": "code",
   "execution_count": null,
   "metadata": {},
   "outputs": [],
   "source": [
    "# taking a matrix for example\n",
    "matrix = [[7,8,0,4,0,0,1,2,0],\n",
    "         [6,0,0,0,7,5,0,0,9],\n",
    "         [0,0,0,6,0,1,0,7,8],\n",
    "         [0,0,7,0,4,0,2,6,0],\n",
    "         [0,0,1,0,5,0,9,3,0],\n",
    "         [9,0,4,0,6,0,0,0,5],\n",
    "         [0,7,0,3,0,0,0,1,2],\n",
    "         [1,2,0,0,0,7,4,0,0],\n",
    "         [0,4,9,2,0,6,0,0,7]]"
   ]
  },
  {
   "cell_type": "code",
   "execution_count": 150,
   "metadata": {},
   "outputs": [],
   "source": [
    "game = Sudoku(matrix)"
   ]
  },
  {
   "cell_type": "code",
   "execution_count": 151,
   "metadata": {},
   "outputs": [
    {
     "name": "stdout",
     "output_type": "stream",
     "text": [
      "| 7 8 0 | 4 0 0 | 1 2 0 | \n",
      "| 6 0 0 | 0 7 5 | 0 0 9 | \n",
      "| 0 0 0 | 6 0 1 | 0 7 8 | \n",
      "-------------------------\n",
      "| 0 0 7 | 0 4 0 | 2 6 0 | \n",
      "| 0 0 1 | 0 5 0 | 9 3 0 | \n",
      "| 9 0 4 | 0 6 0 | 0 0 5 | \n",
      "-------------------------\n",
      "| 0 7 0 | 3 0 0 | 0 1 2 | \n",
      "| 1 2 0 | 0 0 7 | 4 0 0 | \n",
      "| 0 4 9 | 2 0 6 | 0 0 7 | \n"
     ]
    }
   ],
   "source": [
    "game.printBoard()"
   ]
  },
  {
   "cell_type": "code",
   "execution_count": 152,
   "metadata": {},
   "outputs": [
    {
     "data": {
      "text/plain": [
       "True"
      ]
     },
     "execution_count": 152,
     "metadata": {},
     "output_type": "execute_result"
    }
   ],
   "source": [
    "game.solve()"
   ]
  },
  {
   "cell_type": "code",
   "execution_count": 153,
   "metadata": {},
   "outputs": [
    {
     "name": "stdout",
     "output_type": "stream",
     "text": [
      "| 7 8 5 | 4 3 9 | 1 2 6 | \n",
      "| 6 1 2 | 8 7 5 | 3 4 9 | \n",
      "| 4 9 3 | 6 2 1 | 5 7 8 | \n",
      "-------------------------\n",
      "| 8 5 7 | 9 4 3 | 2 6 1 | \n",
      "| 2 6 1 | 7 5 8 | 9 3 4 | \n",
      "| 9 3 4 | 1 6 2 | 7 8 5 | \n",
      "-------------------------\n",
      "| 5 7 8 | 3 9 4 | 6 1 2 | \n",
      "| 1 2 6 | 5 8 7 | 4 9 3 | \n",
      "| 3 4 9 | 2 1 6 | 8 5 7 | \n"
     ]
    }
   ],
   "source": [
    "game.printBoard()"
   ]
  },
  {
   "cell_type": "code",
   "execution_count": null,
   "metadata": {},
   "outputs": [],
   "source": []
  },
  {
   "cell_type": "code",
   "execution_count": null,
   "metadata": {},
   "outputs": [],
   "source": []
  }
 ],
 "metadata": {
  "kernelspec": {
   "display_name": "Python 3",
   "language": "python",
   "name": "python3"
  },
  "language_info": {
   "codemirror_mode": {
    "name": "ipython",
    "version": 3
   },
   "file_extension": ".py",
   "mimetype": "text/x-python",
   "name": "python",
   "nbconvert_exporter": "python",
   "pygments_lexer": "ipython3",
   "version": "3.7.3"
  }
 },
 "nbformat": 4,
 "nbformat_minor": 2
}
